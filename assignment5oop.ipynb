{
 "cells": [
  {
   "cell_type": "markdown",
   "id": "cd15689d-91d0-4da4-b099-11ab9686d5fb",
   "metadata": {},
   "source": [
    "Q1, Create a vehicle class with an init method having instance variables as name_of_vehicle, max_speed\n",
    "and average_of_vehicle."
   ]
  },
  {
   "cell_type": "code",
   "execution_count": 7,
   "id": "d668b32d-5af3-476a-b329-f4d78c5b41e8",
   "metadata": {},
   "outputs": [],
   "source": [
    "class vehicle:\n",
    "    def __init__(self,name_of_vehicle,max_speed,average_of_vehicle):\n",
    "        self.name_of_vehicle=name_of_vehicle\n",
    "        self.max_speed=max_speed\n",
    "        self.average_of_vehicle=average_of_vehicle\n",
    "    def detail_vehicle(self):\n",
    "        return self.name_of_vehicle,self.max_speed,self.average_of_vehicle"
   ]
  },
  {
   "cell_type": "code",
   "execution_count": 8,
   "id": "5c683d25-bff4-4fb8-b4e7-0226206e6592",
   "metadata": {},
   "outputs": [],
   "source": [
    "car=vehicle(\"Audi\",\"50km/hr\",\"90km/hr\")"
   ]
  },
  {
   "cell_type": "code",
   "execution_count": 9,
   "id": "3c035eea-1dbc-413d-b7ec-735e8b721e55",
   "metadata": {},
   "outputs": [
    {
     "data": {
      "text/plain": [
       "('Audi', '50km/hr', '90km/hr')"
      ]
     },
     "execution_count": 9,
     "metadata": {},
     "output_type": "execute_result"
    }
   ],
   "source": [
    "car.detail_vehicle()"
   ]
  },
  {
   "cell_type": "markdown",
   "id": "f7a58a55-132c-4e07-a9ae-de49760ebefb",
   "metadata": {},
   "source": [
    "Q2. Create a child class car from the vehicle class created in Que 1, which will inherit the vehicle class.\n",
    "Create a method named seating_capacity which takes capacity as an argument and returns the name of\n",
    "the vehicle and its seating capacity."
   ]
  },
  {
   "cell_type": "code",
   "execution_count": 48,
   "id": "b9002b06-d339-48dc-9ed4-5ca00cc21a9c",
   "metadata": {},
   "outputs": [],
   "source": [
    "class child_car(vehicle):\n",
    "    def seating_capacity(self,capacity):\n",
    "        self.capacity=capacity\n",
    "        return  self.name_of_vehicle,self.capacity if self.capacity==capacity else \"0000\"\n",
    "    "
   ]
  },
  {
   "cell_type": "code",
   "execution_count": 49,
   "id": "9ea33408-ba2e-4445-b08a-11d233389adb",
   "metadata": {},
   "outputs": [],
   "source": [
    "car1=child_car(\"audi1.0\",\"40km/hr\",\"50km/hr\")"
   ]
  },
  {
   "cell_type": "code",
   "execution_count": 51,
   "id": "bc2172f9-7157-4328-a455-215aaa9a17a5",
   "metadata": {},
   "outputs": [
    {
     "data": {
      "text/plain": [
       "('audi1.0', 5)"
      ]
     },
     "execution_count": 51,
     "metadata": {},
     "output_type": "execute_result"
    }
   ],
   "source": [
    "car1.seating_capacity(5)"
   ]
  },
  {
   "cell_type": "markdown",
   "id": "4fd57b04-b4a8-4ba7-a9bb-1683643a1c67",
   "metadata": {},
   "source": [
    "Q3. What is multiple inheritance? Write a python code to demonstrate multiple inheritance."
   ]
  },
  {
   "cell_type": "markdown",
   "id": "c0e44576-1132-42b3-9798-f9cdce1fa7ef",
   "metadata": {},
   "source": [
    "Ans:- multiple inheritance is way to inherit two or more class in a single class suppose if two class and its method is inherited in a derived class then it is said to be multiple inheritance let say that a car and bus bus clas has  have some attribute different atribute  so another class with both attribute in it let say car_bus which is inherited both bus and car feature. "
   ]
  },
  {
   "cell_type": "code",
   "execution_count": 111,
   "id": "c446aa94-aec5-462a-985c-953deb0fccf7",
   "metadata": {},
   "outputs": [],
   "source": [
    "class car:\n",
    "    def car_detail(self,wheel,color):\n",
    "        self.color=color\n",
    "        self.wheel=wheel\n",
    "    def detail1(self):\n",
    "        return self.color,self.wheel"
   ]
  },
  {
   "cell_type": "code",
   "execution_count": 112,
   "id": "74ba857d-329f-4d1b-b07d-469f4dbc09c9",
   "metadata": {},
   "outputs": [],
   "source": [
    "class bus:\n",
    "    def bus_detail(self,size,capacity):\n",
    "        self.size=size\n",
    "        self.capacity=capacity\n",
    "    def detail2(self):\n",
    "        return self.size,self.capacity"
   ]
  },
  {
   "cell_type": "code",
   "execution_count": 113,
   "id": "4391259b-c641-4bed-b977-d075d58d7090",
   "metadata": {},
   "outputs": [],
   "source": [
    "class car_bus(car,bus):\n",
    "    pass\n",
    "    "
   ]
  },
  {
   "cell_type": "code",
   "execution_count": 114,
   "id": "d77703fc-e8d1-4cc4-9272-506fa30ca178",
   "metadata": {},
   "outputs": [],
   "source": [
    "c1=car_bus()"
   ]
  },
  {
   "cell_type": "code",
   "execution_count": 115,
   "id": "08d55174-284b-4773-bdb4-f445cf5f219d",
   "metadata": {},
   "outputs": [],
   "source": [
    "c1.bus_detail(\"4ft\",15)\n",
    "c1.car_detail(4,\"black\")"
   ]
  },
  {
   "cell_type": "code",
   "execution_count": 116,
   "id": "92a2873f-7f44-4b37-a6ba-8df22bbed6fd",
   "metadata": {},
   "outputs": [
    {
     "data": {
      "text/plain": [
       "('black', 4)"
      ]
     },
     "execution_count": 116,
     "metadata": {},
     "output_type": "execute_result"
    }
   ],
   "source": [
    "c1.detail1()"
   ]
  },
  {
   "cell_type": "code",
   "execution_count": 117,
   "id": "e83c3e5a-f8ab-45dd-a007-b6b12766ad22",
   "metadata": {},
   "outputs": [
    {
     "data": {
      "text/plain": [
       "('4ft', 15)"
      ]
     },
     "execution_count": 117,
     "metadata": {},
     "output_type": "execute_result"
    }
   ],
   "source": [
    "c1.detail2()"
   ]
  },
  {
   "cell_type": "markdown",
   "id": "f9951745-25c0-4b8d-90fa-b611d71eba9e",
   "metadata": {},
   "source": [
    "Q4. What are getter and setter in python? Create a class and create a getter and a setter method in this\n",
    "class."
   ]
  },
  {
   "cell_type": "markdown",
   "id": "d119be0f-3a82-496c-b729-32d0141048df",
   "metadata": {},
   "source": [
    "Ans:- Getter and setter in python is used to set and get values .\n",
    "When we do incapsulation then while hoiding some essential feature wo apply setter method to set calues and use getter method to get the values"
   ]
  },
  {
   "cell_type": "code",
   "execution_count": 136,
   "id": "904e9253-d4ce-487b-8c89-a4a279fb94a1",
   "metadata": {},
   "outputs": [],
   "source": [
    "class encapsul:\n",
    "    def fun(self,name,roll):\n",
    "        self.__name=name\n",
    "        self.__roll=roll\n",
    "    def set_data(self,name,roll):\n",
    "        self.__name=name\n",
    "        self.__roll=roll\n",
    "    def get_data(self):\n",
    "        return self.__name,self.__roll"
   ]
  },
  {
   "cell_type": "code",
   "execution_count": 137,
   "id": "5547f7f0-b7a8-4114-8d5c-8909e0b4ee98",
   "metadata": {},
   "outputs": [],
   "source": [
    "s1=encapsul()"
   ]
  },
  {
   "cell_type": "code",
   "execution_count": 138,
   "id": "886b4f66-3665-4abf-b553-ef5c63087b00",
   "metadata": {},
   "outputs": [],
   "source": [
    "s1.set_data(\"surya\",43)"
   ]
  },
  {
   "cell_type": "code",
   "execution_count": 139,
   "id": "ee91b436-cebc-41a9-8aca-5b6cfbbff194",
   "metadata": {},
   "outputs": [
    {
     "data": {
      "text/plain": [
       "('surya', 43)"
      ]
     },
     "execution_count": 139,
     "metadata": {},
     "output_type": "execute_result"
    }
   ],
   "source": [
    "s1.get_data()"
   ]
  },
  {
   "cell_type": "markdown",
   "id": "0917fb47-4d51-4fec-bead-0f11bee58f1e",
   "metadata": {},
   "source": [
    "Q5.What is method overriding in python? Write a python code to demonstrate method overriding."
   ]
  },
  {
   "cell_type": "markdown",
   "id": "21db7d51-b34a-45d8-8fdb-c08360c81d0d",
   "metadata": {},
   "source": [
    "Ans:-When a method in a subclass has the same name, same parameters or signature and same return type(or sub-type) as a method in its super-class, then the method in the subclass is said to override the method in the super-class."
   ]
  },
  {
   "cell_type": "code",
   "execution_count": 152,
   "id": "e43856b6-660c-4d3c-8036-2b380abb32ef",
   "metadata": {},
   "outputs": [],
   "source": [
    "class parent:\n",
    "    def __init__(self):\n",
    "        self.value=\"parent name\"\n",
    "    def get1(self):\n",
    "        return self.value"
   ]
  },
  {
   "cell_type": "code",
   "execution_count": 153,
   "id": "cb3df383-43e3-42b0-941e-b18df2dc65ac",
   "metadata": {},
   "outputs": [],
   "source": [
    "class child(parent):\n",
    "    def __init__(self):\n",
    "        self.value=\"child name\"\n",
    "    def get(self):\n",
    "        return self.value"
   ]
  },
  {
   "cell_type": "code",
   "execution_count": 154,
   "id": "f2e74732-3c61-4fcb-827e-72b66c0759cc",
   "metadata": {},
   "outputs": [],
   "source": [
    "c1=child()"
   ]
  },
  {
   "cell_type": "code",
   "execution_count": 156,
   "id": "331563c8-98f7-4629-9729-d7cf60f15643",
   "metadata": {},
   "outputs": [
    {
     "data": {
      "text/plain": [
       "'child name'"
      ]
     },
     "execution_count": 156,
     "metadata": {},
     "output_type": "execute_result"
    }
   ],
   "source": [
    "c1.get()"
   ]
  },
  {
   "cell_type": "code",
   "execution_count": null,
   "id": "57986b42-905c-429c-840a-1f8d2e2143e2",
   "metadata": {},
   "outputs": [],
   "source": []
  }
 ],
 "metadata": {
  "kernelspec": {
   "display_name": "Python 3 (ipykernel)",
   "language": "python",
   "name": "python3"
  },
  "language_info": {
   "codemirror_mode": {
    "name": "ipython",
    "version": 3
   },
   "file_extension": ".py",
   "mimetype": "text/x-python",
   "name": "python",
   "nbconvert_exporter": "python",
   "pygments_lexer": "ipython3",
   "version": "3.10.8"
  }
 },
 "nbformat": 4,
 "nbformat_minor": 5
}
